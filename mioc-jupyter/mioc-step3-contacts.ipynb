{
 "cells": [
  {
   "cell_type": "markdown",
   "id": "c0b21d4b",
   "metadata": {},
   "source": [
    "# MIoC — Step 3: Contact Extraction & QA (Shape vs Poly∩Metal)\n",
    "\n",
    "This notebook detects contacts from the **original flat-field corrected** image using a **shape-based** method, then compares them with **anticipated contacts** derived from **poly** and **metal** overlays. Finally it emits a merged/validated contact set and a router-ready CPIN list.\n",
    "\n",
    "**Pipeline**\n",
    "1. Load flat-field-corrected die image (full-res).\n",
    "2. **Shape-based** contact detection via Hough circles + edge-ring density test.\n",
    "3. Load previously extracted **poly** and **metal** masks; derive anticipated contacts from **dilate(poly) ∩ metal**.\n",
    "4. Compare sets (shape vs poly∩metal), highlight **matches** and **misses**.\n",
    "5. Merge validated contacts → save CSV, overlay, and **CPIN** lines.\n",
    "\n",
    "**Set your paths & parameters in the next cell, then run cells top→down.**"
   ]
  },
  {
   "cell_type": "code",
   "execution_count": 1,
   "id": "f9343fa1",
   "metadata": {},
   "outputs": [
    {
     "name": "stdout",
     "output_type": "stream",
     "text": [
      "Output → out-step3_contacts\n"
     ]
    }
   ],
   "source": [
    "from pathlib import Path\n",
    "import numpy as np\n",
    "import cv2\n",
    "import pandas as pd\n",
    "\n",
    "# === USER CONFIG ===\n",
    "DIE_IMAGE = Path('./images/ncr_8338d_greyscale_corrected.jpg')  # TODO: set your die image\n",
    "POLY_MASK = Path('./out-lab-thin/mask_poly_clean.png')     # TODO: set to your step2 poly mask\n",
    "METAL_MASK = Path('/out-lab-thin/mask_metal_thin.png')   # TODO: set to your step2 metal mask\n",
    "OUTDIR = Path('./out-step3_contacts')                    # output directory\n",
    "\n",
    "# Shape-based (contact) detection params\n",
    "R_MIN, R_MAX = 8, 14          # px, expected radius band (10–12 typical)\n",
    "HOUGH_DP = 1.2                 # Hough resolution ratio\n",
    "HOUGH_MIN_DIST = 18            # px, min center distance\n",
    "HOUGH_PARAM1 = 120             # Canny high threshold\n",
    "HOUGH_PARAM2 = 20              # Hough accumulator threshold (lower → more circles)\n",
    "MIN_EDGE_DENSITY = 0.12        # min edge density in ring to accept circle\n",
    "\n",
    "# Anticipated contacts from poly∩metal\n",
    "DILATE_POLY_PX = 2             # px, dilate poly before intersecting with metal\n",
    "CC_MIN_AREA = 9                # px^2, minimum blob area to keep\n",
    "\n",
    "# Matching tolerance between sets (distance in px)\n",
    "MATCH_TOL = 6\n",
    "\n",
    "OUTDIR.mkdir(parents=True, exist_ok=True)\n",
    "print('Output →', OUTDIR)"
   ]
  },
  {
   "cell_type": "code",
   "execution_count": 2,
   "id": "e224bd10",
   "metadata": {},
   "outputs": [
    {
     "name": "stdout",
     "output_type": "stream",
     "text": [
      "Helpers loaded.\n"
     ]
    }
   ],
   "source": [
    "# Utility helpers\n",
    "def read_img(path: Path):\n",
    "    img = cv2.imread(str(path), cv2.IMREAD_COLOR)\n",
    "    if img is None:\n",
    "        raise FileNotFoundError(f'Could not read image: {path}')\n",
    "    return img\n",
    "\n",
    "def circles_via_hough(gray, rmin, rmax, dp=1.2, min_dist=18, param1=120, param2=20):\n",
    "    g = cv2.GaussianBlur(gray, (0,0), 1.0)\n",
    "    circles = cv2.HoughCircles(g, cv2.HOUGH_GRADIENT, dp=dp, minDist=min_dist,\n",
    "                               param1=param1, param2=param2,\n",
    "                               minRadius=rmin, maxRadius=rmax)\n",
    "    if circles is None:\n",
    "        return []\n",
    "    return [(float(x), float(y), float(r)) for x,y,r in circles[0]]\n",
    "\n",
    "def annulus_edge_density(edge, cx, cy, r, band=2):\n",
    "    H,W = edge.shape\n",
    "    y, x = np.ogrid[:H, :W]\n",
    "    dist = np.sqrt((x - cx)**2 + (y - cy)**2)\n",
    "    mask = (dist >= (r - band)) & (dist <= (r + band))\n",
    "    ring_area = np.count_nonzero(mask)\n",
    "    if ring_area == 0:\n",
    "        return 0.0\n",
    "    hits = np.count_nonzero(edge & mask)\n",
    "    return hits / float(ring_area)\n",
    "\n",
    "def detect_contacts_shape(img_bgr, rmin=8, rmax=14, dp=1.2, min_dist=18, param1=120, param2=20,\n",
    "                          min_edge_density=0.12, draw_radius_shrink=1):\n",
    "    gray = cv2.cvtColor(img_bgr, cv2.COLOR_BGR2GRAY)\n",
    "    edges = cv2.Canny(gray, threshold1=param1//2, threshold2=param1)\n",
    "    circles = circles_via_hough(gray, rmin, rmax, dp=dp, min_dist=min_dist, param1=param1, param2=param2)\n",
    "    mask = np.zeros_like(gray, dtype=np.uint8)\n",
    "    centers = []\n",
    "    for (cx, cy, r) in circles:\n",
    "        dens = annulus_edge_density(edges, cx, cy, r, band=2)\n",
    "        if dens < min_edge_density:\n",
    "            continue\n",
    "        rr = max(int(round(r - draw_radius_shrink)), 1)\n",
    "        cv2.circle(mask, (int(round(cx)), int(round(cy))), rr, 255, thickness=-1)\n",
    "        centers.append({'x': int(round(cx)), 'y': int(round(cy)), 'r': float(r), 'edge_density': float(dens)})\n",
    "    return mask, centers\n",
    "\n",
    "def clean_mask(mask, open_ksize=3, close_ksize=3, min_area=9):\n",
    "    m = mask.copy()\n",
    "    if open_ksize and open_ksize>1:\n",
    "        k = cv2.getStructuringElement(cv2.MORPH_ELLIPSE, (open_ksize, open_ksize))\n",
    "        m = cv2.morphologyEx(m, cv2.MORPH_OPEN, k)\n",
    "    if close_ksize and close_ksize>1:\n",
    "        k = cv2.getStructuringElement(cv2.MORPH_ELLIPSE, (close_ksize, close_ksize))\n",
    "        m = cv2.morphologyEx(m, cv2.MORPH_CLOSE, k)\n",
    "    num, lab, stats, cent = cv2.connectedComponentsWithStats((m>0).astype(np.uint8), 8)\n",
    "    out = np.zeros_like(m)\n",
    "    keep = []\n",
    "    for i in range(1, num):\n",
    "        area = stats[i, cv2.CC_STAT_AREA]\n",
    "        if area >= min_area:\n",
    "            out[lab==i] = 255\n",
    "            cx, cy = cent[i]\n",
    "            keep.append({'x': int(round(cx)), 'y': int(round(cy)), 'area': int(area)})\n",
    "    return out, keep\n",
    "\n",
    "def overlay_points(img_bgr, pts, color=(203,62,255), half=3):\n",
    "    out = img_bgr.copy()\n",
    "    for p in pts:\n",
    "        x, y = int(p['x']), int(p['y'])\n",
    "        cv2.rectangle(out, (x-half,y-half), (x+half,y+half), color, 1)\n",
    "    return out\n",
    "\n",
    "def anticipated_contacts_from_masks(poly_mask, metal_mask, dilate_px=2, cc_min_area=9):\n",
    "    if dilate_px>0:\n",
    "        k = cv2.getStructuringElement(cv2.MORPH_ELLIPSE, (2*dilate_px+1, 2*dilate_px+1))\n",
    "        poly_d = cv2.dilate(poly_mask, k)\n",
    "    else:\n",
    "        poly_d = poly_mask\n",
    "    inter = cv2.bitwise_and(poly_d, metal_mask)\n",
    "    inter_clean, centers = clean_mask(inter, open_ksize=3, close_ksize=3, min_area=cc_min_area)\n",
    "    return inter_clean, centers\n",
    "\n",
    "def match_sets(A, B, tol=6):\n",
    "    # Return (matches indices), (a_only idx), (b_only idx)\n",
    "    a_only = []\n",
    "    matches = []\n",
    "    used_b = set()\n",
    "    for i,a in enumerate(A):\n",
    "        ax, ay = a['x'], a['y']\n",
    "        bid = -1\n",
    "        best = 1e9\n",
    "        for j,b in enumerate(B):\n",
    "            if j in used_b: continue\n",
    "            d = (ax-b['x'])**2 + (ay-b['y'])**2\n",
    "            if d < best:\n",
    "                best = d; bid = j\n",
    "        if bid>=0 and best <= tol*tol:\n",
    "            matches.append((i,bid))\n",
    "            used_b.add(bid)\n",
    "        else:\n",
    "            a_only.append(i)\n",
    "    b_only = [j for j in range(len(B)) if j not in used_b]\n",
    "    return matches, a_only, b_only\n",
    "\n",
    "print('Helpers loaded.')"
   ]
  },
  {
   "cell_type": "markdown",
   "id": "1974b63c",
   "metadata": {},
   "source": [
    "## 1) Load images & detect shape-based contacts"
   ]
  },
  {
   "cell_type": "code",
   "execution_count": null,
   "id": "abdcc5ed",
   "metadata": {},
   "outputs": [],
   "source": [
    "img = read_img(DIE_IMAGE)\n",
    "shape_mask, shape_centers = detect_contacts_shape(\n",
    "    img,\n",
    "    rmin=R_MIN, rmax=R_MAX,\n",
    "    dp=HOUGH_DP, min_dist=HOUGH_MIN_DIST,\n",
    "    param1=HOUGH_PARAM1, param2=HOUGH_PARAM2,\n",
    "    min_edge_density=MIN_EDGE_DENSITY\n",
    ")\n",
    "overlay_shape = overlay_points(img, shape_centers, color=(0,255,0))  # green\n",
    "cv2.imwrite(str(OUTDIR/'shape_contact_mask.png'), shape_mask)\n",
    "cv2.imwrite(str(OUTDIR/'overlay_shape_on_die.png'), overlay_shape)\n",
    "pd.DataFrame(shape_centers).to_csv(OUTDIR/'contacts_shape.csv', index=False)\n",
    "print(f\"shape contacts: {len(shape_centers)}\")"
   ]
  },
  {
   "cell_type": "markdown",
   "id": "01e81091",
   "metadata": {},
   "source": [
    "## 2) Load poly & metal overlays → anticipated contacts (dilate(poly) ∩ metal)"
   ]
  },
  {
   "cell_type": "code",
   "execution_count": null,
   "id": "9e61082d",
   "metadata": {},
   "outputs": [],
   "source": [
    "poly_mask = cv2.imread(str(POLY_MASK), cv2.IMREAD_GRAYSCALE)\n",
    "metal_mask = cv2.imread(str(METAL_MASK), cv2.IMREAD_GRAYSCALE)\n",
    "if poly_mask is None or metal_mask is None:\n",
    "    raise FileNotFoundError('Set POLY_MASK and METAL_MASK paths to your step2 outputs.')\n",
    "\n",
    "pm_mask, pm_centers = anticipated_contacts_from_masks(poly_mask, metal_mask, dilate_px=DILATE_POLY_PX, cc_min_area=CC_MIN_AREA)\n",
    "overlay_pm = overlay_points(img, pm_centers, color=(255,0,0))  # red\n",
    "cv2.imwrite(str(OUTDIR/'pm_contact_mask.png'), pm_mask)\n",
    "cv2.imwrite(str(OUTDIR/'overlay_pm_on_die.png'), overlay_pm)\n",
    "pd.DataFrame(pm_centers).to_csv(OUTDIR/'contacts_pm.csv', index=False)\n",
    "print(f\"poly∩metal contacts: {len(pm_centers)}\")"
   ]
  },
  {
   "cell_type": "markdown",
   "id": "0a150e31",
   "metadata": {},
   "source": [
    "## 3) Compare sets (shape vs poly∩metal) and visualize misses"
   ]
  },
  {
   "cell_type": "code",
   "execution_count": null,
   "id": "9d7c3f7d",
   "metadata": {},
   "outputs": [],
   "source": [
    "matches, shape_only_idx, pm_only_idx = match_sets(shape_centers, pm_centers, tol=MATCH_TOL)\n",
    "print('matches:', len(matches), 'shape_only:', len(shape_only_idx), 'pm_only:', len(pm_only_idx))\n",
    "\n",
    "# Build comparison overlay\n",
    "overlay_cmp = img.copy()\n",
    "for i,j in matches:\n",
    "    x,y = shape_centers[i]['x'], shape_centers[i]['y']\n",
    "    cv2.rectangle(overlay_cmp, (x-3,y-3), (x+3,y+3), (255,255,255), 1)  # white for match\n",
    "for i in shape_only_idx:\n",
    "    x,y = shape_centers[i]['x'], shape_centers[i]['y']\n",
    "    cv2.rectangle(overlay_cmp, (x-3,y-3), (x+3,y+3), (0,255,0), 1)      # green → shape-only\n",
    "for j in pm_only_idx:\n",
    "    x,y = pm_centers[j]['x'], pm_centers[j]['y']\n",
    "    cv2.rectangle(overlay_cmp, (x-3,y-3), (x+3,y+3), (255,0,0), 1)      # red → pm-only\n",
    "\n",
    "cv2.imwrite(str(OUTDIR/'overlay_compare_on_die.png'), overlay_cmp)\n",
    "\n",
    "# Save a merged/contact_final list (union) and class labels\n",
    "merged = []\n",
    "used_pm = set(j for _,j in matches)\n",
    "for i,_ in matches:\n",
    "    m = dict(shape_centers[i])\n",
    "    m['source'] = 'both'\n",
    "    merged.append(m)\n",
    "for i in shape_only_idx:\n",
    "    m = dict(shape_centers[i]); m['source'] = 'shape'\n",
    "    merged.append(m)\n",
    "for j in pm_only_idx:\n",
    "    m = dict(pm_centers[j]); m['source'] = 'pm'\n",
    "    merged.append(m)\n",
    "\n",
    "df_final = pd.DataFrame(merged)\n",
    "df_final.to_csv(OUTDIR/'contacts_final.csv', index=False)\n",
    "print('final contacts:', len(df_final))"
   ]
  },
  {
   "cell_type": "markdown",
   "id": "259f7bcd",
   "metadata": {},
   "source": [
    "## 4) Emit CPIN list for router and a standalone overlay"
   ]
  },
  {
   "cell_type": "code",
   "execution_count": null,
   "id": "d1adc7df",
   "metadata": {},
   "outputs": [],
   "source": [
    "cpin_path = OUTDIR/'contacts_as_cpin.txt'\n",
    "with open(cpin_path, 'w') as f:\n",
    "    for i, r in df_final.iterrows():\n",
    "        f.write(f\"PIN,CPIN,CONTACT_{i+1},{int(r['x'])},{int(r['y'])},NSEW,metal,owner=CONTACT,role=via\\n\")\n",
    "print('Wrote', cpin_path)\n",
    "\n",
    "overlay_final = overlay_points(img, df_final.to_dict('records'), color=(203,62,255))\n",
    "cv2.imwrite(str(OUTDIR/'overlay_contacts_final.png'), overlay_final)\n",
    "print('Saved final overlay image.')"
   ]
  },
  {
   "cell_type": "markdown",
   "id": "9f498fb8",
   "metadata": {},
   "source": [
    "## 5) Optional: grid snapping (if contacts sit on a lattice)\n",
    "Enable and tune if you want to reduce subpixel jitter.\n"
   ]
  },
  {
   "cell_type": "code",
   "execution_count": null,
   "id": "0f7c62e2",
   "metadata": {},
   "outputs": [],
   "source": [
    "ENABLE_SNAP = False      # set True to enable\n",
    "DX, DY = 8, 8            # grid pitch in px\n",
    "X0, Y0 = 0, 0            # grid origin in px\n",
    "\n",
    "if ENABLE_SNAP:\n",
    "    df_snap = df_final.copy()\n",
    "    df_snap['x'] = ((df_snap['x'] - X0)/DX).round().astype(int)*DX + X0\n",
    "    df_snap['y'] = ((df_snap['y'] - Y0)/DY).round().astype(int)*DY + Y0\n",
    "    df_snap.to_csv(OUTDIR/'contacts_final_snapped.csv', index=False)\n",
    "    with open(OUTDIR/'contacts_as_cpin_snapped.txt', 'w') as f:\n",
    "        for i, r in df_snap.iterrows():\n",
    "            f.write(f\"PIN,CPIN,CONTACT_{i+1},{int(r['x'])},{int(r['y'])},NSEW,metal,owner=CONTACT,role=via\\n\")\n",
    "    print('Wrote snapped contacts and CPIN file.')"
   ]
  },
  {
   "cell_type": "markdown",
   "id": "c21c4af3",
   "metadata": {},
   "source": [
    "### Notes\n",
    "- **Green**: shape-only detections (might be true contacts missed by poly∩metal masks, or false positives—inspect).\n",
    "- **Red**: poly∩metal-only detections (might be masked shapes, or mask errors—inspect).\n",
    "- **White**: matched by both methods.\n",
    "- Tweak **R_MIN/R_MAX**, **HOUGH_PARAM2**, and **MIN_EDGE_DENSITY** if over/under-detecting.\n",
    "- Tweak **DILATE_POLY_PX** and **CC_MIN_AREA** for anticipated contacts.\n",
    "- Final CPIN lines live in `contacts_as_cpin.txt` (and `_snapped` if enabled)."
   ]
  }
 ],
 "metadata": {
  "kernelspec": {
   "display_name": "Python 3 (ipykernel)",
   "language": "python",
   "name": "python3"
  },
  "language_info": {
   "codemirror_mode": {
    "name": "ipython",
    "version": 3
   },
   "file_extension": ".py",
   "mimetype": "text/x-python",
   "name": "python",
   "nbconvert_exporter": "python",
   "pygments_lexer": "ipython3",
   "version": "3.10.12"
  }
 },
 "nbformat": 4,
 "nbformat_minor": 5
}
