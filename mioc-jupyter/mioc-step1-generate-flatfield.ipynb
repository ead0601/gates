{
 "cells": [
  {
   "cell_type": "markdown",
   "id": "3efb94f0-c556-42a0-9a20-1d14e7a811e5",
   "metadata": {},
   "source": [
    "### Flat Field Correction - Preserves colors\n",
    "What the LAB version does\n",
    "\n",
    "#### Convert to CIELAB where L ≈ perceptual lightness, A/B ≈ chroma.\n",
    "- Estimate shading on L only, compute a gain map, and apply it only to L.\n",
    "- Leave A/B unchanged, so hues/chroma stay stable; then convert back to BGR.\n",
    "#### Implications:\n",
    "- Much better hue preservation (since A/B are untouched).\n",
    "- More perceptually uniform correction (flatten illumination without “color drifting”).\n",
    "\n",
    "We can clip the gain map to avoid blown highlights (np.clip(gain, 0.5, 2.0)), which is harder to control in the RGB min–max approach."
   ]
  },
  {
   "cell_type": "code",
   "execution_count": 2,
   "id": "9484d0a6-e0af-4169-8985-21b5a9c8e3c4",
   "metadata": {},
   "outputs": [
    {
     "name": "stdout",
     "output_type": "stream",
     "text": [
      "Saved: ./images/ncr_8338d_corrected.jpg\n"
     ]
    }
   ],
   "source": [
    "import cv2\n",
    "import numpy as np\n",
    "import os\n",
    "\n",
    "# --- config ---\n",
    "IMG_PATH = \"./images/ncr_8338d.jpg\"   # <-- change if needed\n",
    "SIGMA = 101                                      # large blur for background (try 51..201)\n",
    "EPS = 1e-6\n",
    "\n",
    "# output path in same folder with \"_corrected\" suffix\n",
    "root, ext = os.path.splitext(IMG_PATH)\n",
    "OUT_PATH = f\"{root}_corrected.jpg\"\n",
    "\n",
    "# --- load ---\n",
    "bgr = cv2.imread(IMG_PATH, cv2.IMREAD_COLOR)\n",
    "assert bgr is not None, f\"Could not open {IMG_PATH}\"\n",
    "\n",
    "# --- convert to LAB (better for illumination correction) ---\n",
    "lab = cv2.cvtColor(bgr, cv2.COLOR_BGR2LAB).astype(np.float32)\n",
    "L, A, B = cv2.split(lab)  # L in [0..255]\n",
    "\n",
    "# --- estimate low‑frequency illumination on L with a big Gaussian blur ---\n",
    "# (use (0,0) kernel and SIGMA to let OpenCV pick proper kernel size)\n",
    "illum = cv2.GaussianBlur(L, (0, 0), sigmaX=SIGMA, sigmaY=SIGMA)\n",
    "\n",
    "# --- compute gain map to flatten lighting ---\n",
    "# scale so that the average lightness is preserved\n",
    "mean_L = np.mean(L)\n",
    "gain = (mean_L / (illum + EPS))\n",
    "\n",
    "# optional clipping of gain to avoid extreme boosts:\n",
    "gain = np.clip(gain, 0.5, 2.0)\n",
    "\n",
    "# --- apply gain to L only; keep A/B (color) unchanged ---\n",
    "L_corr = np.clip(L * gain, 0, 255).astype(np.float32)\n",
    "\n",
    "# --- merge & convert back to BGR ---\n",
    "lab_corr = cv2.merge([L_corr, A, B]).astype(np.uint8)\n",
    "bgr_corr = cv2.cvtColor(lab_corr, cv2.COLOR_LAB2BGR)\n",
    "\n",
    "# (optional) gentle denoise to remove tiny speckle after correction\n",
    "# bgr_corr = cv2.fastNlMeansDenoisingColored(bgr_corr, None, 3, 3, 7, 21)\n",
    "\n",
    "cv2.imwrite(OUT_PATH, bgr_corr)\n",
    "print(\"Saved:\", OUT_PATH)\n"
   ]
  },
  {
   "cell_type": "code",
   "execution_count": null,
   "id": "42e2d953-7c3a-4528-8593-84b9ebb18dd1",
   "metadata": {},
   "outputs": [],
   "source": []
  },
  {
   "cell_type": "code",
   "execution_count": null,
   "id": "68f83ec8-adc8-426b-8d84-01d316adf7bd",
   "metadata": {},
   "outputs": [],
   "source": []
  }
 ],
 "metadata": {
  "kernelspec": {
   "display_name": "Python 3 (ipykernel)",
   "language": "python",
   "name": "python3"
  },
  "language_info": {
   "codemirror_mode": {
    "name": "ipython",
    "version": 3
   },
   "file_extension": ".py",
   "mimetype": "text/x-python",
   "name": "python",
   "nbconvert_exporter": "python",
   "pygments_lexer": "ipython3",
   "version": "3.10.12"
  }
 },
 "nbformat": 4,
 "nbformat_minor": 5
}
